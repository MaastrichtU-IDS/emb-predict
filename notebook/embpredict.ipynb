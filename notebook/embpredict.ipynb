{
 "cells": [
  {
   "cell_type": "code",
   "execution_count": 29,
   "metadata": {},
   "outputs": [],
   "source": [
    "import requests\n",
    "import json\n",
    "import pprint\n",
    "endpoint = \"http://localhost:8808/\"\n",
    "headers = {\n",
    "    'Content-Type': 'application/json'\n",
    "}\n",
    "pp = pprint.PrettyPrinter(indent=2)\n"
   ]
  },
  {
   "cell_type": "markdown",
   "metadata": {},
   "source": [
    "Check to see whether the service is up\n"
   ]
  },
  {
   "cell_type": "code",
   "execution_count": 31,
   "metadata": {},
   "outputs": [
    {
     "name": "stdout",
     "output_type": "stream",
     "text": [
      "{'status': 'ok'}\n"
     ]
    }
   ],
   "source": [
    "url = endpoint + \"health\"\n",
    "response = requests.get(url,  headers=headers)\n",
    "pp.pprint(response.json())"
   ]
  },
  {
   "cell_type": "markdown",
   "metadata": {},
   "source": [
    "we can query the embpredict service with a few different inputs.\n",
    "for drugs: \n",
    "* CURIES, namely CHEMBL_XXXXX\n",
    "* names\n",
    "* SMILES strings\n",
    "\n",
    "the names are searched for in the vectordb\n",
    "the SMILES strings are embedded by a SMILES transformer and stored in the user contributed collection of the vectordb\n",
    "\n",
    "\n",
    "for diseases:\n",
    "* CURIES, namely MONDO, HPO\n",
    "* names\n",
    "\n",
    "the CURIEs and names are searched for in the vectordb\n",
    "names that are not known are embedded by a language model \n",
    "\n",
    "There are two three main API functions\n",
    "* check whether a set of drugs treat a set of diseases (MxN)\n",
    "* check a set of drugs against all diseases\n",
    "* check a disease against all drugs\n",
    "* to find similar drugs \n",
    "* to find similar diseases"
   ]
  },
  {
   "cell_type": "markdown",
   "metadata": {},
   "source": [
    "Two key API endpoints are available to query: A TRAPI API, and a simpler input API. \n",
    "There are \n",
    "The APIs will return 0 results if no valid input is provided.\n",
    "The APIs will perform an MxN scan when only one type of input is provided.\n"
   ]
  },
  {
   "cell_type": "code",
   "execution_count": 34,
   "metadata": {},
   "outputs": [
    {
     "name": "stdout",
     "output_type": "stream",
     "text": [
      "{ 'biolink_version': '3.1.0',\n",
      "  'message': { 'knowledge_graph': { 'edges': { 'e0': { 'attributes': [ { 'attribute_type_id': 'EDAM:data_1048',\n",
      "                                                                         'description': 'model_id',\n",
      "                                                                         'value': 'openpredict_baseline'},\n",
      "                                                                       { 'attribute_type_id': 'EDAM:data_1772',\n",
      "                                                                         'description': 'score',\n",
      "                                                                         'value': 0.4047323763370514},\n",
      "                                                                       { 'attribute_source': 'infores:emb_predict',\n",
      "                                                                         'attribute_type_id': 'biolink:agent_type',\n",
      "                                                                         'value': 'computational_model'},\n",
      "                                                                       { 'attribute_source': 'infores:emb_predict',\n",
      "                                                                         'attribute_type_id': 'biolink:knowledge_level',\n",
      "                                                                         'value': 'prediction'}],\n",
      "                                                       'object': 'EFO_0001073',\n",
      "                                                       'predicate': 'biolink:treats',\n",
      "                                                       'sources': [ { 'resource_id': 'infores:emb_predict',\n",
      "                                                                      'resource_role': 'primary_knowledge_source'},\n",
      "                                                                    { 'resource_id': 'infores:cohd',\n",
      "                                                                      'resource_role': 'supporting_data_source'}],\n",
      "                                                       'subject': 'embpredict:5da9d0800abc6b7bf7b030710d9abb7d'}},\n",
      "                                    'nodes': { 'EFO_0001073': { 'categories': [ 'biolink:Disease'],\n",
      "                                                                'name': 'obesity'},\n",
      "                                               'embpredict:5da9d0800abc6b7bf7b030710d9abb7d': { 'categories': [ 'biolink:Drug'],\n",
      "                                                                                                'name': 'CCCC1(c2ccc(OCCN3CCCCC3)cc2)c2ccc(O)cc2CCN1c1ccc(F)cc1'}}},\n",
      "               'query_graph': { 'edges': { 'e01': { 'attribute_constraints': [],\n",
      "                                                    'object': 'n1',\n",
      "                                                    'predicates': [ 'biolink:treats'],\n",
      "                                                    'qualifier_constraints': [],\n",
      "                                                    'subject': 'n0'}},\n",
      "                                'nodes': { 'n0': { 'categories': [ 'biolink:Drug'],\n",
      "                                                   'constraints': [],\n",
      "                                                   'ids': [ 'CCCC1(c2ccc(OCCN3CCCCC3)cc2)c2ccc(O)cc2CCN1c1ccc(F)cc1'],\n",
      "                                                   'member_ids': [],\n",
      "                                                   'set_interpretation': 'BATCH'},\n",
      "                                           'n1': { 'categories': [ 'biolink:Disease'],\n",
      "                                                   'constraints': [],\n",
      "                                                   'ids': ['obesity'],\n",
      "                                                   'member_ids': [],\n",
      "                                                   'set_interpretation': 'BATCH'}}},\n",
      "               'results': [ { 'analyses': [ { 'edge_bindings': { 'e01': [ { 'id': 'e0'}]},\n",
      "                                              'resource_id': 'infores:emb_predict',\n",
      "                                              'score': 0.4047323763370514,\n",
      "                                              'scoring_method': 'Model '\n",
      "                                                                'confidence '\n",
      "                                                                'between 0 and '\n",
      "                                                                '1'}],\n",
      "                              'node_bindings': { 'n0': [ { 'id': 'embpredict:5da9d0800abc6b7bf7b030710d9abb7d'}],\n",
      "                                                 'n1': [ { 'id': 'EFO_0001073'}]}}]},\n",
      "  'query_options': {'max_score': 1, 'min_score': 0.35, 'n_results': 10},\n",
      "  'reasoner_id': 'infores:emb_predict',\n",
      "  'schema_version': '1.4.0',\n",
      "  'status': 'Success'}\n"
     ]
    }
   ],
   "source": [
    "drug_id = \"CCCC1(c2ccc(OCCN3CCCCC3)cc2)c2ccc(O)cc2CCN1c1ccc(F)cc1\"\n",
    "data = f'''\n",
    "{\n",
    "  \"message\": {\n",
    "    \"query_graph\": {\n",
    "      \"edges\": {\n",
    "        \"e01\": {\n",
    "          \"subject\": \"n0\",\n",
    "          \"predicates\": [\n",
    "            \"biolink:treats\"\n",
    "          ],\n",
    "          \"object\": \"n1\"\n",
    "        }\n",
    "      },\n",
    "      \"nodes\": {\n",
    "        \"n0\": {\n",
    "          \"categories\": [\n",
    "            \"biolink:Drug\"\n",
    "          ],\n",
    "          \"ids\": [\n",
    "            \"{drug_id}\"\n",
    "          ]\n",
    "        },\n",
    "        \"n1\": {\n",
    "          \"categories\": [\n",
    "            \"biolink:Disease\"\n",
    "          ],\n",
    "          \"ids\": [\n",
    "            \"obesity\"\n",
    "          ]\n",
    "        }\n",
    "      }\n",
    "    }\n",
    "  },\n",
    "  \"query_options\": {\n",
    "    \"max_score\": 1,\n",
    "    \"min_score\": 0.35,\n",
    "    \"n_results\": 10\n",
    "  }\n",
    "}\n",
    "'''\n",
    "\n",
    "url = f'{endpoint}/query'\n",
    "response = requests.post(url, json=json.loads(data), headers=headers)\n",
    "pp.pprint(response.json())\n",
    "    "
   ]
  }
 ],
 "metadata": {
  "kernelspec": {
   "display_name": "emb-predict",
   "language": "python",
   "name": "python3"
  },
  "language_info": {
   "codemirror_mode": {
    "name": "ipython",
    "version": 3
   },
   "file_extension": ".py",
   "mimetype": "text/x-python",
   "name": "python",
   "nbconvert_exporter": "python",
   "pygments_lexer": "ipython3",
   "version": "3.10.12"
  }
 },
 "nbformat": 4,
 "nbformat_minor": 2
}
